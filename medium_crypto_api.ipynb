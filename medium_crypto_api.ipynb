{
 "cells": [
  {
   "cell_type": "markdown",
   "id": "d402cf29-6252-49e8-add4-0b45c19ced64",
   "metadata": {
    "tags": []
   },
   "source": [
    "## <font color=blue>Create un fichero environ.py con tus datos reales</font>"
   ]
  },
  {
   "cell_type": "raw",
   "id": "04382a7d-cf08-4fdb-906c-9ce95b0e735c",
   "metadata": {},
   "source": [
    "https://github.com/rgonzalezmoro/CoinMarketCap-API.git"
   ]
  },
  {
   "cell_type": "code",
   "execution_count": null,
   "id": "b1b0a1af-b336-4f9b-b2d7-2f1a62ed1abc",
   "metadata": {},
   "outputs": [],
   "source": [
    "# --- EJEMPLO environ.py -----\n",
    "\n",
    "# -- Divisa --------------\n",
    "os.environ['BADGE']='USD' # 'EUR'\n",
    "\n",
    "# -- API Coinmarketcap ---------\n",
    "os.environ['X-CMC_PRO_API_KEY'] = 'aaaaaaaaa-xxxxx-xxxx-xxx-bbbbbbbbbb'\n",
    "\n",
    "# -- Ruta Ficheros JSON ---------------\n",
    "os.environ['DATAJSON']='/Users/xxxxxxxxxxxxxxxxxxxxxxxxxxxxx/datajson'"
   ]
  },
  {
   "cell_type": "code",
   "execution_count": 16,
   "id": "8866a9d6-b455-404e-a49e-c2df5fdcc954",
   "metadata": {},
   "outputs": [],
   "source": [
    "import os\n",
    "import sys\n",
    "import environ\n",
    "\n",
    "from requests import Request, Session, get\n",
    "from requests.exceptions import ConnectionError, Timeout, TooManyRedirects\n",
    "from json import load, loads\n",
    "\n",
    "BADGE = os.getenv('BADGE')\n",
    "DATAJSON = os.getenv('DATAJSON')\n",
    "PRO_API_KEY = os.getenv('X-CMC_PRO_API_KEY')\n",
    "\n",
    "def loadFile_JSON(_path_name):\n",
    "    try:\n",
    "        with open(_path_name, 'r') as json_file:\n",
    "            _lista= load(json_file)\n",
    "            return _lista\n",
    "    except:\n",
    "        sys.exit(f\"Error al leer el fichero {_path_name}\")\n",
    "\n",
    "\n",
    "def switch_dict(**params):\n",
    "    # -- Si command viene mal provoco error --\n",
    "    assert params['command'] in ['all','id']\n",
    "    \n",
    "    return { \n",
    "        \"all\": {\"url\":\"https://pro-api.coinmarketcap.com/v1/cryptocurrency/listings/latest\",\n",
    "                \"parameters\":{\n",
    "                    \"start\":\"1\",\n",
    "                    \"limit\":\"5000\",\n",
    "                    \"convert\":BADGE}},\n",
    "        \"id\": {\"url\":\"https://pro-api.coinmarketcap.com/v1/cryptocurrency/quotes/latest\",\n",
    "               \"parameters\":{\"id\": params['string_id'], \"convert\": BADGE}},  \n",
    "    }.get(params['command'], -1)\n",
    "\n",
    "def getIDfromSymbol(**kwargs):\n",
    "    \"\"\"\n",
    "    Se reciben los simbolos cuyos ID tenemos que encontrar en un fichero json\n",
    "    \"\"\"\n",
    "    in_symbol,in_json = kwargs['symbol'], kwargs['json_data']\n",
    "    \n",
    "    _json_file = loadFile_JSON(os.path.join(DATAJSON,in_json))\n",
    "\n",
    "    lista_id = (lambda l1,l2 : [str(item2['id']) for item1 in l1 for item2 in l2 if item1 == item2['symbol']])(in_symbol.split(','),_json_file['data'])\n",
    "    \n",
    "    return f\"{','.join(lista_id)}\"\n",
    "\n",
    "# -- OJO que el API devuelve los valores por orden ascendente de ID --\n",
    "def getCoinData(**kwargs):\n",
    "    apiurl = switch_dict(command=kwargs['command'], string_id=kwargs['string_id'])\n",
    "    \n",
    "    url = apiurl['url']    \n",
    "    parameters = apiurl['parameters']\n",
    "\n",
    "    headers = {\n",
    "        'Accepts': 'application/json',\n",
    "        'X-CMC_PRO_API_KEY': PRO_API_KEY\n",
    "    }\n",
    "\n",
    "    session = Session()\n",
    "    session.headers.update(headers)\n",
    "    \n",
    "    try:\n",
    "        response = session.get(url, params=parameters)\n",
    "        return response\n",
    "    \n",
    "    except (ConnectionError, Timeout, TooManyRedirects) as e:\n",
    "        print(e)\n",
    "    \n"
   ]
  },
  {
   "cell_type": "code",
   "execution_count": 2,
   "id": "77ecdb7e-189c-4583-a8a4-fe67e895ad94",
   "metadata": {},
   "outputs": [],
   "source": [
    "# -- Llamada para obtener el fichero global\n",
    "# _resp = getCoinData(command='all', string_id=\"\")\n",
    "\n",
    "_resp = getCoinData(command='id', string_id=\"1027,2010,1\")\n",
    "\n",
    "if _resp.status_code == 200:\n",
    "    _resp_json = loads(_resp.text)\n",
    "else: \n",
    "    sys.exit(f\"\\nEl API devolvío codigo error {_resp.status_code}\\n\")"
   ]
  },
  {
   "cell_type": "code",
   "execution_count": 3,
   "id": "bfaa8bec-467c-4012-84d7-1df61190f6bf",
   "metadata": {},
   "outputs": [
    {
     "name": "stdout",
     "output_type": "stream",
     "text": [
      "id: 1 - Name: Bitcoin -           Symbol: BTC Price: 21503.51187896285\n",
      "id: 1027 - Name: Ethereum -           Symbol: ETH Price: 1213.4653687268642\n",
      "id: 2010 - Name: Cardano -           Symbol: ADA Price: 0.4667254216118927\n"
     ]
    }
   ],
   "source": [
    "for coin in _resp_json['data'].values():\n",
    "    print(f\"id: {coin['id']} - Name: {coin['name']} - \\\n",
    "          Symbol: {coin['symbol']} Price: {coin['quote'][BADGE]['price']}\")"
   ]
  },
  {
   "cell_type": "code",
   "execution_count": 15,
   "id": "812468c4-37d8-479b-90d2-a73c3fd06e10",
   "metadata": {},
   "outputs": [
    {
     "data": {
      "text/html": [
       "<div>\n",
       "<style scoped>\n",
       "    .dataframe tbody tr th:only-of-type {\n",
       "        vertical-align: middle;\n",
       "    }\n",
       "\n",
       "    .dataframe tbody tr th {\n",
       "        vertical-align: top;\n",
       "    }\n",
       "\n",
       "    .dataframe thead th {\n",
       "        text-align: right;\n",
       "    }\n",
       "</style>\n",
       "<table border=\"1\" class=\"dataframe\">\n",
       "  <thead>\n",
       "    <tr style=\"text-align: right;\">\n",
       "      <th></th>\n",
       "      <th>id</th>\n",
       "      <th>name</th>\n",
       "      <th>symbol</th>\n",
       "      <th>price</th>\n",
       "    </tr>\n",
       "  </thead>\n",
       "  <tbody>\n",
       "    <tr>\n",
       "      <th>0</th>\n",
       "      <td>1</td>\n",
       "      <td>Bitcoin</td>\n",
       "      <td>BTC</td>\n",
       "      <td>21503.511879</td>\n",
       "    </tr>\n",
       "    <tr>\n",
       "      <th>1</th>\n",
       "      <td>1027</td>\n",
       "      <td>Ethereum</td>\n",
       "      <td>ETH</td>\n",
       "      <td>1213.465369</td>\n",
       "    </tr>\n",
       "    <tr>\n",
       "      <th>2</th>\n",
       "      <td>2010</td>\n",
       "      <td>Cardano</td>\n",
       "      <td>ADA</td>\n",
       "      <td>0.466725</td>\n",
       "    </tr>\n",
       "  </tbody>\n",
       "</table>\n",
       "</div>"
      ],
      "text/plain": [
       "     id      name symbol         price\n",
       "0     1   Bitcoin    BTC  21503.511879\n",
       "1  1027  Ethereum    ETH   1213.465369\n",
       "2  2010   Cardano    ADA      0.466725"
      ]
     },
     "execution_count": 15,
     "metadata": {},
     "output_type": "execute_result"
    }
   ],
   "source": [
    "import pandas as pd\n",
    "\n",
    "_lista = [{'id': coin['id'], 'name': coin['name'], 'symbol': coin['symbol'], \\\n",
    "           'price': coin['quote'][BADGE]['price']} for coin in _resp_json['data'].values()]\n",
    "\n",
    "pd.DataFrame(_lista,columns = _lista[0].keys()) "
   ]
  },
  {
   "cell_type": "code",
   "execution_count": 21,
   "id": "7461b43c-0fae-4331-a056-d6305e890637",
   "metadata": {},
   "outputs": [],
   "source": [
    "def getIDfromSymbol(**kwargs):\n",
    "    in_symbol,in_json = kwargs['symbol'], kwargs['json_data']\n",
    "    \n",
    "    _json_file = loadFile_JSON(os.path.join(DATAJSON,in_json))\n",
    "\n",
    "    lista_id = (lambda _symbol_in_string, _json_de_datos : [str(item2['id']) \\\n",
    "                for item1 in _symbol_in_string for item2 in _json_de_datos \\\n",
    "                if item1 == item2['symbol']])(in_symbol.split(','),_json_file['data'])\n",
    "    \n",
    "    return f\"{','.join(lista_id)}\""
   ]
  },
  {
   "cell_type": "code",
   "execution_count": 22,
   "id": "4680128b-70f2-4cac-a961-c50e50a0b333",
   "metadata": {},
   "outputs": [
    {
     "data": {
      "text/plain": [
       "'1027,1,2010'"
      ]
     },
     "execution_count": 22,
     "metadata": {},
     "output_type": "execute_result"
    }
   ],
   "source": [
    "getIDfromSymbol(symbol='ETH,BTC,ADA', json_data='completo_reference.json')"
   ]
  },
  {
   "cell_type": "code",
   "execution_count": null,
   "id": "7d33efef-124b-421f-b506-e36c853c9252",
   "metadata": {},
   "outputs": [],
   "source": []
  }
 ],
 "metadata": {
  "kernelspec": {
   "display_name": "trading",
   "language": "python",
   "name": "trading"
  },
  "language_info": {
   "codemirror_mode": {
    "name": "ipython",
    "version": 3
   },
   "file_extension": ".py",
   "mimetype": "text/x-python",
   "name": "python",
   "nbconvert_exporter": "python",
   "pygments_lexer": "ipython3",
   "version": "3.9.12"
  }
 },
 "nbformat": 4,
 "nbformat_minor": 5
}
